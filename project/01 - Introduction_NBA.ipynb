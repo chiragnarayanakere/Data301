{
 "cells": [
  {
   "cell_type": "markdown",
   "metadata": {},
   "source": [
    "# **01 - INTRODUCTION**"
   ]
  },
  {
   "cell_type": "markdown",
   "metadata": {},
   "source": [
    "Basketball, just like any other sport, is a huge numbers game; there are so many metrics in place to keep track of how well a player performs. Being an avid basketball fan I used to only focus on the game itself and not worry about all the statistics and calculations that were taking place behind the scenes.....until I watched the movie Moneyball. Even though the movie was about baseball it got me thinking about whether or not the concepts could be applied to other sports, specifically basketball. In this project, I explore relationships between different basketball metrics and analyze the correlations between them."
   ]
  },
  {
   "cell_type": "markdown",
   "metadata": {},
   "source": [
    "## **The Dataset**"
   ]
  },
  {
   "cell_type": "markdown",
   "metadata": {},
   "source": [
    "The dataset used was downloaded off Kaggle and had one .csv file:\n",
    "\n",
    "* shot_logs.csv: A file containing shot data for every player during the 2014-2015 NBA Season.\n"
   ]
  },
  {
   "cell_type": "markdown",
   "metadata": {},
   "source": [
    "## **Outline**"
   ]
  },
  {
   "cell_type": "markdown",
   "metadata": {},
   "source": [
    "* 01 - Introduction\n",
    "* 02 - Import\n",
    "    * Shot Log Dataset\n",
    "* 03 - Tidy\n",
    "    * Clean up dataset by filtering for appropriate time periods, shot distances, and other shot metrics\n",
    "* 04 - Exploratory Data Analysis\n",
    "    * Cross-Tabulation \n",
    "    * Shot Distribution\n",
    "    * Individual Player Analysis\n",
    "* 05 - Modeling\n",
    "    * XGBoost\n",
    "        * Optimized Model\n",
    "        * Normal Model\n",
    "    * GaussianNB\n",
    "        * Optimized Model\n",
    "        * Normal Model\n",
    "    * Random Forest\n",
    "        * Optimized Model\n",
    "        * Normal Model\n",
    "* 06 - Presentation"
   ]
  },
  {
   "cell_type": "markdown",
   "metadata": {},
   "source": [
    "## **Citations**"
   ]
  },
  {
   "cell_type": "markdown",
   "metadata": {},
   "source": [
    "**Dataset**\n",
    "* https://www.kaggle.com/dansbecker/nba-shot-logs/data\n",
    "\n",
    "**Data Manipulation**\n",
    "* https://www.analyticsvidhya.com/blog/2016/01/12-pandas-techniques-python-data-manipulation/\n",
    "\n",
    "**Image Plotting**\n",
    "* https://stackoverflow.com/questions/35286540/display-an-image-with-python/35286615\n",
    "\n",
    "**Classification and Modeling**\n",
    "* Types of Classifiers\n",
    "    * https://martin-thoma.com/comparing-classifiers/\n",
    "* XGBoost   \n",
    "    * https://machinelearningmastery.com/gentle-introduction-xgboost-applied-machine-learning/\n",
    "    * https://machinelearningmastery.com/feature-importance-and-feature-selection-with-xgboost-in-python/\n",
    "    * http://xgboost.readthedocs.io/en/latest/python/python_api.html\n",
    "* KNeighbors\n",
    "    * https://kevinzakka.github.io/2016/07/13/k-nearest-neighbor/\n",
    "* Random Forest\n",
    "    * http://dataaspirant.com/2017/06/26/random-forest-classifier-python-scikit-learn/\n",
    "    * http://scikit-learn.org/stable/modules/generated/sklearn.ensemble.RandomForestClassifier.html\n"
   ]
  },
  {
   "cell_type": "code",
   "execution_count": null,
   "metadata": {
    "collapsed": true
   },
   "outputs": [],
   "source": []
  }
 ],
 "metadata": {
  "kernelspec": {
   "display_name": "Python 3",
   "language": "python",
   "name": "python3"
  },
  "language_info": {
   "codemirror_mode": {
    "name": "ipython",
    "version": 3
   },
   "file_extension": ".py",
   "mimetype": "text/x-python",
   "name": "python",
   "nbconvert_exporter": "python",
   "pygments_lexer": "ipython3",
   "version": "3.6.2"
  }
 },
 "nbformat": 4,
 "nbformat_minor": 2
}
