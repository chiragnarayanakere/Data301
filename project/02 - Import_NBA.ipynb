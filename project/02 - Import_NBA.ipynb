{
 "cells": [
  {
   "cell_type": "markdown",
   "metadata": {},
   "source": [
    "# **02 - IMPORT**"
   ]
  },
  {
   "cell_type": "markdown",
   "metadata": {},
   "source": [
    "The main dataset I used was downloaded from kaggle with only one CSV file: https://www.kaggle.com/dansbecker/nba-shot-logs/data\n",
    "\n",
    "* shot_logs.csv: This dataset is a consolidation of shot data during the 2014-2015 season including who took the shot, where on the floor was the shot taken from, who was the nearest defender, how far away was the nearest defender, time on the shot clock, and more. The column titles are named very appropriately and are easy to understand. \n",
    "\n",
    "What I hope to be able to predict using this data, through my model, is whether a shot will make or miss depending on factors such as number of dribbles, shot time, distance from basket, etc. \n",
    "\n",
    "For my challenge area I decided to work with the XGBoost which is a library designed and optimized for boosted tree algorithms. The reason I chose to work with this library is because of its classifier, XGBClassifier. This classifier is very famous and is widely used to help create optimized models. Using this classifier I am able to see which columns in my data will have the largest effect on predicting the end result. Due to the nature of this classifier, it is typically used in predictive sport models to understand which factors affect a player's performance. I also wanted to compare this classifier with other classifiers, such as GaussianNB and Random Forest, to compare the classifers and see which would be the better classifier to pursue.\n",
    "\n",
    "\n",
    "\n"
   ]
  },
  {
   "cell_type": "code",
   "execution_count": null,
   "metadata": {
    "collapsed": true
   },
   "outputs": [],
   "source": []
  }
 ],
 "metadata": {
  "kernelspec": {
   "display_name": "Python 3",
   "language": "python",
   "name": "python3"
  },
  "language_info": {
   "codemirror_mode": {
    "name": "ipython",
    "version": 3
   },
   "file_extension": ".py",
   "mimetype": "text/x-python",
   "name": "python",
   "nbconvert_exporter": "python",
   "pygments_lexer": "ipython3",
   "version": "3.6.2"
  }
 },
 "nbformat": 4,
 "nbformat_minor": 2
}
